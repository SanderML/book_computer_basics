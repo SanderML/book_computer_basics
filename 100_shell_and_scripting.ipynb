{
 "cells": [
  {
   "cell_type": "markdown",
   "id": "3d52a135-e73c-4851-88fe-96250972c439",
   "metadata": {},
   "source": [
    "# Shell and Scripting"
   ]
  },
  {
   "cell_type": "markdown",
   "id": "9312c707-cfa2-4350-b331-9d1fca172794",
   "metadata": {},
   "source": [
    "## Special variables"
   ]
  },
  {
   "cell_type": "markdown",
   "id": "7a4dfcd9-706c-4d22-ac4b-a184601a9406",
   "metadata": {},
   "source": [
    "- `$1` to `$9`: arguments to the script\n",
    "- `$0` name of the script itself\n",
    "- `$#` number of arguments\n",
    "- `$$` process ID of current shell\n",
    "- `$?` returns 0 if the last command errored"
   ]
  },
  {
   "cell_type": "markdown",
   "id": "b22612c9-3d16-463c-a122-31e1eb987541",
   "metadata": {},
   "source": [
    "- `test` is used for checks and comparisons\n",
    "    - exits with 0 if true\n",
    "    - `[` + `]` does the same, e.g.:\n",
    "        - `[ -d $f ]`"
   ]
  },
  {
   "cell_type": "markdown",
   "id": "bc4954a1-fa05-4e9c-a3c9-057ef675d98e",
   "metadata": {},
   "source": [
    "## Globbing"
   ]
  },
  {
   "cell_type": "markdown",
   "id": "cb7e00c2-9404-419a-9b21-f5f6be56fcaa",
   "metadata": {},
   "source": [
    "- `*` any string of characters\n",
    "- `?` any single character\n",
    "- `{a,b,c}` any of these characters"
   ]
  },
  {
   "cell_type": "markdown",
   "id": "72919109-6d44-4ede-856b-995d04546757",
   "metadata": {},
   "source": [
    "- to stop whitespace issues use `[[`\n",
    "    - allows `&&` and `||`"
   ]
  },
  {
   "cell_type": "markdown",
   "id": "5589bc10-6c3b-4362-9176-487ecd7903d0",
   "metadata": {},
   "source": [
    "## Composabilty"
   ]
  },
  {
   "cell_type": "markdown",
   "id": "603d61f4-19b9-425c-8519-0ad2cc961698",
   "metadata": {},
   "source": [
    "- `a | b` \n",
    "    - means run both a and b\n",
    "    - send all output of a as input of b\n",
    "    - print output of b"
   ]
  },
  {
   "cell_type": "markdown",
   "id": "59277ab0-4686-49bd-b7c3-6ab2c4c438f7",
   "metadata": {},
   "source": [
    "- `STDIN`: when the program reads input\n",
    "- `STDOUT`: when the program prints something\n",
    "- `STDERR`: a 2nd output the program prints errors\n",
    "- by default\n",
    "    - `STDIN` is your keyboard\n",
    "    - `STDOUT` and `STDERR` are your terminal"
   ]
  },
  {
   "cell_type": "markdown",
   "id": "0ab7adb8-1575-4259-b4c9-0e73c5304501",
   "metadata": {},
   "source": [
    "- `a | b` makes `STDOUT` of a `STDIN` of b\n",
    "- `a > foo` (`STDOUT` of a goes to the file foo)\n",
    "- `a 2> foo` (`STDERR` of a goes to the file foo)\n",
    "- `a < foo` (`STDIN` of a is read from the file foo)\n",
    "- hint: tail -f will print a file as its being written"
   ]
  },
  {
   "cell_type": "markdown",
   "id": "40f87022-90a9-4256-8c2c-b0f0325c694d",
   "metadata": {},
   "source": [
    "`tac` returns output in reversed order"
   ]
  },
  {
   "cell_type": "markdown",
   "id": "2b3eb028-bacf-4731-983d-770cd3fdfa97",
   "metadata": {},
   "source": [
    "### process substitution\n",
    "- `b < (a)` will run a, generate a temp file and pass that that to b\n",
    "- `diff <(journaltctl -b -1 | head -n20) <(journalctl -b -2 | head -n20)`"
   ]
  },
  {
   "cell_type": "markdown",
   "id": "8e0f84b4-ab43-464b-be18-8e05109bffa4",
   "metadata": {},
   "source": [
    "- `&` suffix runs a program in the background\n",
    "- `^Z` to but the current program into background *BUT* stops it\n",
    "    - bg to run the last job in the background\n",
    "- see als processes with `jobs`\n",
    "- `fg %JOB` to bring the process back to the foreground\n",
    "- `disown` or `nohup` severs the process connection to the current session"
   ]
  },
  {
   "cell_type": "markdown",
   "id": "42f60eec-3222-4f1b-908e-abfaaa338956",
   "metadata": {},
   "source": [
    "## sed"
   ]
  },
  {
   "cell_type": "markdown",
   "id": "49261563-8625-4c60-be90-ef5612deb341",
   "metadata": {},
   "source": [
    "- `sed s/REGEX/SUBSTITUTION/`\n",
    "- `sed 's/.*Disconnected from //'`\n",
    "    - replaces the the Regex consisting of everthing before and including \"Disconnected from with nothing\"\n",
    "- you can use `sed` to change lines in sshd.config"
   ]
  },
  {
   "cell_type": "code",
   "execution_count": null,
   "id": "93ef83bc-0600-41f3-8728-7ed8ed8fdba7",
   "metadata": {},
   "outputs": [],
   "source": []
  }
 ],
 "metadata": {
  "kernelspec": {
   "display_name": "python3",
   "language": "python",
   "name": "python3"
  }
 },
 "nbformat": 4,
 "nbformat_minor": 5
}

{
 "cells": [
  {
   "cell_type": "markdown",
   "id": "83c5c321-c6d2-4df6-94af-e9a8d65fe693",
   "metadata": {},
   "source": [
    "# Linux Tricks"
   ]
  },
  {
   "cell_type": "markdown",
   "id": "f6836b07-2a00-4be3-928c-c2e7fc8e8e14",
   "metadata": {},
   "source": [
    "## Printer"
   ]
  },
  {
   "cell_type": "markdown",
   "id": "2bdf54d8-c5b3-4088-86a5-154990b42957",
   "metadata": {},
   "source": [
    "- endeavour printer\n",
    "    - yay brother driver\n",
    "        - mfc l2750dw\n",
    "    - cups device uri: ipp://192.168.188.60"
   ]
  },
  {
   "cell_type": "markdown",
   "id": "b66a1185-e4b6-41b2-98ec-46291de05134",
   "metadata": {},
   "source": [
    "## Dell Thunderbolt"
   ]
  },
  {
   "cell_type": "markdown",
   "id": "65e5249b-c4d4-43ef-b23d-4af1e96f08aa",
   "metadata": {},
   "source": [
    "- add file /etc/udev/rules.d/99-removable.rules with content:\n",
    "> ACTION==\"add\", SUBSYSTEM==\"thunderbolt\", ATTR{authorized}==\"0\", ATTR{authorized}=\"1\""
   ]
  },
  {
   "cell_type": "markdown",
   "id": "c33c76fc-18c6-4aa8-b4a1-728a106c8a5b",
   "metadata": {},
   "source": [
    "## Powermenu in Endeavour with Text input"
   ]
  },
  {
   "cell_type": "markdown",
   "id": "ae7ddeba-59b8-4923-976d-30b520a81034",
   "metadata": {},
   "source": [
    "- in ~/.config/rofi/powermenu.rasi\n",
    "> uncomment last lines called mainbox {children...}"
   ]
  },
  {
   "cell_type": "markdown",
   "id": "3b86beb4-9090-4f9c-bc3b-b273487f911d",
   "metadata": {},
   "source": [
    "## Bluetooth"
   ]
  },
  {
   "cell_type": "markdown",
   "id": "ad338dc8-beba-476b-aba4-c8638a34e9b7",
   "metadata": {},
   "source": [
    "- Dual Pairing\n",
    "\t- teufel headset\n",
    "\t\t- mac adress: 6c0de1821047\n",
    "\t\t- in hex: 79 3D 51 8A 36 AA EC 95 18 B8 3C 29 C8 55 E5 37\n",
    "\t- mx keys mini\n",
    "\t\t- ist schwieriger weil bluetooth 5.1 oder so\n",
    "- Bluetooth Headset Microphone\n",
    "\t- works somehow after reinstalling packages from this link:\n",
    "\t\t- https://discovery.endeavouros.com/audio/pipewire/2021/09/\n",
    "\t- in pavucontrol set configuration to:\n",
    "\t\t- hsp/hfp codec mSBC\n",
    "\t- Sound ist aber sehr blechern im gegensatz zu vorher ohne micro"
   ]
  },
  {
   "cell_type": "markdown",
   "id": "14d37479-2e9c-434e-9e5a-f8547d48fb86",
   "metadata": {},
   "source": [
    "## Creating Bootable Devices"
   ]
  },
  {
   "cell_type": "markdown",
   "id": "5703de28-8a38-43c5-8277-d7dd194ad3dd",
   "metadata": {},
   "source": [
    "- ventoy (copy paste multiple isos into folder)\n",
    "- popsicle\n",
    "- raspberry pi imager\n",
    "- woeusb (for windows isos)"
   ]
  },
  {
   "cell_type": "markdown",
   "id": "ef9f9e0c-6489-44fe-9d49-ba368df762c8",
   "metadata": {},
   "source": [
    "## Dual Boot with Windows"
   ]
  },
  {
   "cell_type": "markdown",
   "id": "d7111d74-97b6-4093-bf17-0ec7377e4df3",
   "metadata": {},
   "source": [
    "- [Arch Wiki Windows Guide](https://wiki.archlinux.org/title/Dual_boot_with_Windows)\n",
    "    - fast boot und hibernation aus\n",
    "    - [UTC Time in Windows](https://wiki.archlinux.org/title/System_time#UTC_in_Microsoft_Windows)"
   ]
  }
 ],
 "metadata": {
  "kernelspec": {
   "display_name": "python3",
   "language": "python",
   "name": "python3"
  }
 },
 "nbformat": 4,
 "nbformat_minor": 5
}

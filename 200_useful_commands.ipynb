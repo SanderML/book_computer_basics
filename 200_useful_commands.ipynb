{
 "cells": [
  {
   "cell_type": "markdown",
   "id": "bccf1acd-a4cd-401a-8466-94bde4230e4d",
   "metadata": {},
   "source": [
    "# Useful Commands"
   ]
  },
  {
   "cell_type": "markdown",
   "id": "4537af1f-dded-4c35-90ab-249010b2f5f1",
   "metadata": {},
   "source": [
    "- `ps aux` lists all processes\n",
    "- `xargs command` to run the command with previously piped commands"
   ]
  },
  {
   "cell_type": "markdown",
   "id": "a2534a64-964f-41a8-8410-4c6e059991bc",
   "metadata": {},
   "source": [
    "- `aunpack` from the atool package to replace tar/unzip/unrar by doing it all at once\n",
    "- `sort` sorts its input\n",
    "- `uniq -c` will returns the count of each unique line\n",
    "- `paste -sd,` returns the lines as comma separated values\n",
    "- `wc` counts lines, words, etc.\n",
    "- `tee` read from STDIN and write to STDOUT + each file"
   ]
  },
  {
   "cell_type": "code",
   "execution_count": null,
   "id": "0b08bcda-8bb8-418e-8543-cde00ac7dbb8",
   "metadata": {},
   "outputs": [],
   "source": []
  }
 ],
 "metadata": {
  "kernelspec": {
   "display_name": "python3",
   "language": "python",
   "name": "python3"
  }
 },
 "nbformat": 4,
 "nbformat_minor": 5
}

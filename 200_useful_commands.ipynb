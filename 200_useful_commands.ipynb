{
 "cells": [
  {
   "cell_type": "markdown",
   "id": "bccf1acd-a4cd-401a-8466-94bde4230e4d",
   "metadata": {},
   "source": [
    "# Useful Commands"
   ]
  },
  {
   "cell_type": "markdown",
   "id": "4537af1f-dded-4c35-90ab-249010b2f5f1",
   "metadata": {},
   "source": [
    "- `ps aux` lists all processes"
   ]
  },
  {
   "cell_type": "code",
   "execution_count": null,
   "id": "4a7ccf2e-c3c1-4434-acb7-3d55c08af8e5",
   "metadata": {},
   "outputs": [],
   "source": []
  }
 ],
 "metadata": {
  "kernelspec": {
   "display_name": "python3",
   "language": "python",
   "name": "python3"
  }
 },
 "nbformat": 4,
 "nbformat_minor": 5
}

{
 "cells": [
  {
   "cell_type": "markdown",
   "id": "bccf1acd-a4cd-401a-8466-94bde4230e4d",
   "metadata": {},
   "source": [
    "# Useful Commands"
   ]
  },
  {
   "cell_type": "markdown",
   "id": "4537af1f-dded-4c35-90ab-249010b2f5f1",
   "metadata": {},
   "source": [
    "- `ps aux` lists all processes\n",
    "- `xargs command` to run the command with previously piped commands"
   ]
  },
  {
   "cell_type": "markdown",
   "id": "a2534a64-964f-41a8-8410-4c6e059991bc",
   "metadata": {},
   "source": [
    "- `aunpack` from the atool package to replace tar/unzip/unrar by doing it all at once\n",
    "- `sort` sorts its input\n",
    "- `uniq -c` will returns the count of each unique line\n",
    "- `paste -sd,` returns the lines as comma separated values\n",
    "- `wc` counts lines, words, etc.\n",
    "- `tee` read from STDIN and write to STDOUT + each file"
   ]
  },
  {
   "cell_type": "markdown",
   "id": "ee85b223-0a75-436a-a896-39abc4999f8b",
   "metadata": {},
   "source": [
    "- `lspci` ls all pci devices (monitors, usb, etc.)\n",
    "- `nslookup google.com` shows ip address of google.com\n",
    "- `iwconfig` for wlan config\n",
    "    - deactivate wlan with `sudo ifconfig wlan0 down`\n",
    "- `ifconfig` for network interface config"
   ]
  },
  {
   "cell_type": "code",
   "execution_count": null,
   "id": "4392d531-9018-4bc5-986a-fa7f007830f8",
   "metadata": {},
   "outputs": [],
   "source": []
  }
 ],
 "metadata": {
  "kernelspec": {
   "display_name": "python3",
   "language": "python",
   "name": "python3"
  }
 },
 "nbformat": 4,
 "nbformat_minor": 5
}

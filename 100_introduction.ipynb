{
 "cells": [
  {
   "cell_type": "markdown",
   "id": "3d52a135-e73c-4851-88fe-96250972c439",
   "metadata": {},
   "source": [
    "# Test"
   ]
  },
  {
   "cell_type": "code",
   "execution_count": null,
   "id": "ba933889-95ab-42a2-b632-cbc03eea7f96",
   "metadata": {},
   "outputs": [
    {
     "name": "stdout",
     "output_type": "stream",
     "text": [
      "100_introduction.ipynb\tconfigs    _quarto.yml\n",
      "900_references.qmd\tindex.qmd  README.md\n"
     ]
    }
   ],
   "source": [
    "!ls"
   ]
  },
  {
   "cell_type": "code",
   "execution_count": null,
   "id": "2accb387-957a-4bc9-a09b-58b6a87f1047",
   "metadata": {},
   "outputs": [
    {
     "name": "stdout",
     "output_type": "stream",
     "text": [
      "\n",
      "  \u001b[1mcat\u001b[0m\n",
      "\n",
      "  Print and concatenate files.\u001b[0m\n",
      "  More information: https://www.gnu.org/software/coreutils/cat.\u001b[0m\n",
      "\n",
      "  \u001b[32m- Print the contents of a file to the standard output:\u001b[0m\n",
      "    \u001b[31mcat \u001b[0mpath/to/file\u001b[0m\u001b[31m\u001b[0m\n",
      "\n",
      "  \u001b[32m- Concatenate several files into an output file:\u001b[0m\n",
      "    \u001b[31mcat \u001b[0mpath/to/file1 path/to/file2 ...\u001b[0m\u001b[31m > \u001b[0mpath/to/output_file\u001b[0m\u001b[31m\u001b[0m\n",
      "\n",
      "  \u001b[32m- Append several files to an output file:\u001b[0m\n",
      "    \u001b[31mcat \u001b[0mpath/to/file1 path/to/file2 ...\u001b[0m\u001b[31m >> \u001b[0mpath/to/output_file\u001b[0m\u001b[31m\u001b[0m\n",
      "\n",
      "  \u001b[32m- Copy the contents of a file into an output file in [u]nbuffered mode:\u001b[0m\n",
      "    \u001b[31mcat -u \u001b[0m/dev/tty12\u001b[0m\u001b[31m > \u001b[0m/dev/tty13\u001b[0m\u001b[31m\u001b[0m\n",
      "\n",
      "  \u001b[32m- Write `stdin` to a file:\u001b[0m\n",
      "    \u001b[31mcat - > \u001b[0mpath/to/file\u001b[0m\u001b[31m\u001b[0m\n",
      "\n",
      "  \u001b[32m- [n]umber all output lines:\u001b[0m\n",
      "    \u001b[31mcat -n \u001b[0mpath/to/file\u001b[0m\u001b[31m\u001b[0m\n",
      "\n",
      "  \u001b[32m- Display non-printable and whitespace characters (with `M-` prefix if non-ASCII):\u001b[0m\n",
      "    \u001b[31mcat -v -t -e \u001b[0mpath/to/file\u001b[0m\u001b[31m\u001b[0m\n",
      "\n",
      "\u001b[0m"
     ]
    }
   ],
   "source": [
    "!tldr cat"
   ]
  },
  {
   "cell_type": "code",
   "execution_count": null,
   "id": "3645335e-22bf-497d-8ade-777de431cc95",
   "metadata": {},
   "outputs": [],
   "source": []
  }
 ],
 "metadata": {
  "kernelspec": {
   "display_name": "python3",
   "language": "python",
   "name": "python3"
  }
 },
 "nbformat": 4,
 "nbformat_minor": 5
}
